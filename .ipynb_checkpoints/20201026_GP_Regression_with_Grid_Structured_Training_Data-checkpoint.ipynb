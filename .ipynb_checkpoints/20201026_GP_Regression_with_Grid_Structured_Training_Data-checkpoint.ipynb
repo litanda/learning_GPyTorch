{
 "cells": [
  {
   "cell_type": "code",
   "execution_count": 1,
   "metadata": {},
   "outputs": [],
   "source": [
    "import gpytorch\n",
    "import torch\n",
    "import math"
   ]
  },
  {
   "cell_type": "code",
   "execution_count": 2,
   "metadata": {},
   "outputs": [],
   "source": [
    "grid_bounds = [(0, 1), (0, 2)]\n",
    "grid_size = 25\n",
    "grid = torch.zeros(grid_size, len(grid_bounds))\n",
    "for i in range(len(grid_bounds)):\n",
    "    grid_diff = float(grid_bounds[i][1] - grid_bounds[i][0]) / (grid_size - 2)\n",
    "    grid[:, i] = torch.linspace(grid_bounds[i][0] - grid_diff, grid_bounds[i][1] + grid_diff, grid_size)\n",
    "\n",
    "train_x = gpytorch.utils.grid.create_data_from_grid(grid)\n",
    "train_y = torch.sin((train_x[:, 0] + train_x[:, 1]) * (2 * math.pi)) + torch.randn_like(train_x[:, 0]).mul(0.01)"
   ]
  },
  {
   "cell_type": "code",
   "execution_count": 3,
   "metadata": {},
   "outputs": [],
   "source": [
    "class GridGPRegressionModel(gpytorch.models.ExactGP):\n",
    "    def __init__(self, grid, train_x, train_y, likelihood):\n",
    "        super(GridGPRegressionModel, self).__init__(train_x, train_y, likelihood)\n",
    "        num_dims = train_x.size(-1)\n",
    "        self.mean_module = gpytorch.means.ConstantMean()\n",
    "        self.covar_module = gpytorch.kernels.GridKernel(gpytorch.kernels.RBFKernel(), grid=grid)\n",
    "\n",
    "    def forward(self, x):\n",
    "        mean_x = self.mean_module(x)\n",
    "        covar_x = self.covar_module(x)\n",
    "        return gpytorch.distributions.MultivariateNormal(mean_x, covar_x)\n",
    "\n",
    "likelihood = gpytorch.likelihoods.GaussianLikelihood()\n",
    "model = GridGPRegressionModel(grid, train_x, train_y, likelihood)"
   ]
  },
  {
   "cell_type": "code",
   "execution_count": 4,
   "metadata": {},
   "outputs": [
    {
     "name": "stdout",
     "output_type": "stream",
     "text": [
      "Iter 1/50 - Loss: 1.097   lengthscale: 0.693   noise: 0.693\n",
      "Iter 2/50 - Loss: 1.077   lengthscale: 0.644   noise: 0.644\n",
      "Iter 3/50 - Loss: 1.054   lengthscale: 0.599   noise: 0.598\n",
      "Iter 4/50 - Loss: 1.024   lengthscale: 0.557   noise: 0.555\n",
      "Iter 5/50 - Loss: 0.986   lengthscale: 0.517   noise: 0.513\n",
      "Iter 6/50 - Loss: 0.934   lengthscale: 0.480   noise: 0.474\n",
      "Iter 7/50 - Loss: 0.865   lengthscale: 0.445   noise: 0.437\n",
      "Iter 8/50 - Loss: 0.781   lengthscale: 0.413   noise: 0.402\n",
      "Iter 9/50 - Loss: 0.689   lengthscale: 0.381   noise: 0.370\n",
      "Iter 10/50 - Loss: 0.601   lengthscale: 0.351   noise: 0.339\n",
      "Iter 11/50 - Loss: 0.525   lengthscale: 0.323   noise: 0.311\n",
      "Iter 12/50 - Loss: 0.461   lengthscale: 0.297   noise: 0.284\n",
      "Iter 13/50 - Loss: 0.409   lengthscale: 0.274   noise: 0.259\n",
      "Iter 14/50 - Loss: 0.364   lengthscale: 0.254   noise: 0.236\n",
      "Iter 15/50 - Loss: 0.323   lengthscale: 0.237   noise: 0.214\n",
      "Iter 16/50 - Loss: 0.285   lengthscale: 0.223   noise: 0.194\n",
      "Iter 17/50 - Loss: 0.247   lengthscale: 0.212   noise: 0.176\n",
      "Iter 18/50 - Loss: 0.210   lengthscale: 0.203   noise: 0.159\n",
      "Iter 19/50 - Loss: 0.171   lengthscale: 0.196   noise: 0.144\n",
      "Iter 20/50 - Loss: 0.132   lengthscale: 0.192   noise: 0.130\n",
      "Iter 21/50 - Loss: 0.090   lengthscale: 0.189   noise: 0.117\n",
      "Iter 22/50 - Loss: 0.047   lengthscale: 0.188   noise: 0.105\n",
      "Iter 23/50 - Loss: 0.002   lengthscale: 0.188   noise: 0.095\n",
      "Iter 24/50 - Loss: -0.045   lengthscale: 0.190   noise: 0.085\n",
      "Iter 25/50 - Loss: -0.095   lengthscale: 0.193   noise: 0.077\n",
      "Iter 26/50 - Loss: -0.147   lengthscale: 0.197   noise: 0.069\n",
      "Iter 27/50 - Loss: -0.200   lengthscale: 0.202   noise: 0.062\n",
      "Iter 28/50 - Loss: -0.254   lengthscale: 0.209   noise: 0.056\n",
      "Iter 29/50 - Loss: -0.309   lengthscale: 0.217   noise: 0.050\n",
      "Iter 30/50 - Loss: -0.365   lengthscale: 0.226   noise: 0.045\n",
      "Iter 31/50 - Loss: -0.420   lengthscale: 0.235   noise: 0.040\n",
      "Iter 32/50 - Loss: -0.475   lengthscale: 0.245   noise: 0.036\n",
      "Iter 33/50 - Loss: -0.528   lengthscale: 0.256   noise: 0.032\n",
      "Iter 34/50 - Loss: -0.579   lengthscale: 0.267   noise: 0.029\n",
      "Iter 35/50 - Loss: -0.628   lengthscale: 0.277   noise: 0.026\n",
      "Iter 36/50 - Loss: -0.675   lengthscale: 0.287   noise: 0.023\n",
      "Iter 37/50 - Loss: -0.719   lengthscale: 0.295   noise: 0.021\n",
      "Iter 38/50 - Loss: -0.764   lengthscale: 0.300   noise: 0.019\n",
      "Iter 39/50 - Loss: -0.810   lengthscale: 0.303   noise: 0.017\n",
      "Iter 40/50 - Loss: -0.859   lengthscale: 0.303   noise: 0.015\n",
      "Iter 41/50 - Loss: -0.910   lengthscale: 0.300   noise: 0.013\n",
      "Iter 42/50 - Loss: -0.962   lengthscale: 0.295   noise: 0.012\n",
      "Iter 43/50 - Loss: -1.013   lengthscale: 0.289   noise: 0.011\n",
      "Iter 44/50 - Loss: -1.063   lengthscale: 0.283   noise: 0.010\n",
      "Iter 45/50 - Loss: -1.111   lengthscale: 0.277   noise: 0.009\n",
      "Iter 46/50 - Loss: -1.157   lengthscale: 0.272   noise: 0.008\n",
      "Iter 47/50 - Loss: -1.202   lengthscale: 0.268   noise: 0.007\n",
      "Iter 48/50 - Loss: -1.247   lengthscale: 0.265   noise: 0.006\n",
      "Iter 49/50 - Loss: -1.292   lengthscale: 0.264   noise: 0.006\n",
      "Iter 50/50 - Loss: -1.337   lengthscale: 0.264   noise: 0.005\n"
     ]
    }
   ],
   "source": [
    "# this is for running the notebook in our testing framework\n",
    "import os\n",
    "smoke_test = ('CI' in os.environ)\n",
    "training_iter = 2 if smoke_test else 50\n",
    "\n",
    "\n",
    "# Find optimal model hyperparameters\n",
    "model.train()\n",
    "likelihood.train()\n",
    "\n",
    "# Use the adam optimizer\n",
    "optimizer = torch.optim.Adam(model.parameters(), lr=0.1)  # Includes GaussianLikelihood parameters\n",
    "\n",
    "# \"Loss\" for GPs - the marginal log likelihood\n",
    "mll = gpytorch.mlls.ExactMarginalLogLikelihood(likelihood, model)\n",
    "\n",
    "for i in range(training_iter):\n",
    "    # Zero gradients from previous iteration\n",
    "    optimizer.zero_grad()\n",
    "    # Output from model\n",
    "    output = model(train_x)\n",
    "    # Calc loss and backprop gradients\n",
    "    loss = -mll(output, train_y)\n",
    "    loss.backward()\n",
    "    print('Iter %d/%d - Loss: %.3f   lengthscale: %.3f   noise: %.3f' % (\n",
    "        i + 1, training_iter, loss.item(),\n",
    "        model.covar_module.base_kernel.lengthscale.item(),\n",
    "        model.likelihood.noise.item()\n",
    "    ))\n",
    "    optimizer.step()"
   ]
  },
  {
   "cell_type": "code",
   "execution_count": 5,
   "metadata": {},
   "outputs": [],
   "source": [
    "model.eval()\n",
    "likelihood.eval()\n",
    "n = 20\n",
    "test_x = torch.zeros(int(pow(n, 2)), 2)\n",
    "for i in range(n):\n",
    "    for j in range(n):\n",
    "        test_x[i * n + j][0] = float(i) / (n-1)\n",
    "        test_x[i * n + j][1] = float(j) / (n-1)\n",
    "\n",
    "with torch.no_grad(), gpytorch.settings.fast_pred_var():\n",
    "    observed_pred = likelihood(model(test_x))"
   ]
  },
  {
   "cell_type": "code",
   "execution_count": 6,
   "metadata": {},
   "outputs": [
    {
     "data": {
      "image/png": "[encoded data removed]",
      "text/plain": [
       "<Figure size 288x216 with 2 Axes>"
      ]
     },
     "metadata": {
      "needs_background": "light"
     },
     "output_type": "display_data"
    },
    {
     "data": {
      "image/png": "[encoded data removed]",
      "text/plain": [
       "<Figure size 288x216 with 2 Axes>"
      ]
     },
     "metadata": {
      "needs_background": "light"
     },
     "output_type": "display_data"
    },
    {
     "data": {
      "image/png": "[encoded data removed]",
      "text/plain": [
       "<Figure size 288x216 with 2 Axes>"
      ]
     },
     "metadata": {
      "needs_background": "light"
     },
     "output_type": "display_data"
    }
   ],
   "source": [
    "\n",
    "import matplotlib.pyplot as plt\n",
    "%matplotlib inline\n",
    "\n",
    "pred_labels = observed_pred.mean.view(n, n)\n",
    "\n",
    "# Calc abosolute error\n",
    "test_y_actual = torch.sin(((test_x[:, 0] + test_x[:, 1]) * (2 * math.pi))).view(n, n)\n",
    "delta_y = torch.abs(pred_labels - test_y_actual).detach().numpy()\n",
    "\n",
    "# Define a plotting function\n",
    "def ax_plot(f, ax, y_labels, title):\n",
    "    if smoke_test: return  # this is for running the notebook in our testing framework\n",
    "    im = ax.imshow(y_labels)\n",
    "    ax.set_title(title)\n",
    "    f.colorbar(im)\n",
    "\n",
    "# Plot our predictive means\n",
    "f, observed_ax = plt.subplots(1, 1, figsize=(4, 3))\n",
    "ax_plot(f, observed_ax, pred_labels, 'Predicted Values (Likelihood)')\n",
    "\n",
    "# Plot the true values\n",
    "f, observed_ax2 = plt.subplots(1, 1, figsize=(4, 3))\n",
    "ax_plot(f, observed_ax2, test_y_actual, 'Actual Values (Likelihood)')\n",
    "\n",
    "# Plot the absolute errors\n",
    "f, observed_ax3 = plt.subplots(1, 1, figsize=(4, 3))\n",
    "ax_plot(f, observed_ax3, delta_y, 'Absolute Error Surface')"
   ]
  },
  {
   "cell_type": "code",
   "execution_count": null,
   "metadata": {},
   "outputs": [],
   "source": []
  }
 ],
 "metadata": {
  "kernelspec": {
   "display_name": "Python 3",
   "language": "python",
   "name": "python3"
  },
  "language_info": {
   "codemirror_mode": {
    "name": "ipython",
    "version": 3
   },
   "file_extension": ".py",
   "mimetype": "text/x-python",
   "name": "python",
   "nbconvert_exporter": "python",
   "pygments_lexer": "ipython3",
   "version": "3.7.4"
  }
 },
 "nbformat": 4,
 "nbformat_minor": 4
}
