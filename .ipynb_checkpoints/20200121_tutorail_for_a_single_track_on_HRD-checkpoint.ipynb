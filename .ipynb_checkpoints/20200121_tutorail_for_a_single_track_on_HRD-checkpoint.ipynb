{
 "cells": [
  {
   "cell_type": "code",
   "execution_count": 1,
   "metadata": {},
   "outputs": [],
   "source": [
    "import math\n",
    "import torch\n",
    "import gpytorch\n",
    "from matplotlib import pyplot as plt\n",
    "import pandas as pd\n",
    "import numpy as np\n",
    "import os\n",
    "os.environ['KMP_DUPLICATE_LIB_OK']='True'\n",
    "\n",
    "%matplotlib inline\n",
    "%load_ext autoreload\n",
    "%autoreload 2"
   ]
  },
  {
   "cell_type": "markdown",
   "metadata": {},
   "source": [
    "Set up training data\n",
    "\n",
    "In the next cell, we set up the training data for this example. We’ll be using 100 regularly spaced points on [0,1] which we evaluate the function on and add Gaussian noise to get the training labels."
   ]
  },
  {
   "cell_type": "code",
   "execution_count": 2,
   "metadata": {},
   "outputs": [
    {
     "name": "stderr",
     "output_type": "stream",
     "text": [
      "//anaconda3/lib/python3.7/site-packages/ipykernel_launcher.py:3: FutureWarning: \n",
      ".ix is deprecated. Please use\n",
      ".loc for label based indexing or\n",
      ".iloc for positional indexing\n",
      "\n",
      "See the documentation here:\n",
      "http://pandas.pydata.org/pandas-docs/stable/user_guide/indexing.html#ix-indexer-is-deprecated\n",
      "  This is separate from the ipykernel package so we can avoid doing imports until\n"
     ]
    }
   ],
   "source": [
    "filename = \"/Users/litz/Documents/GitHub/learning_GPyTorch/simple_grid_test.csv\"\n",
    "df = pd.read_csv(filename, index_col=None, header=0)\n",
    "dfu = df.ix[df[\"evol_stage\"]>=1]"
   ]
  },
  {
   "cell_type": "code",
   "execution_count": 3,
   "metadata": {},
   "outputs": [
    {
     "data": {
      "text/plain": [
       "True"
      ]
     },
     "execution_count": 3,
     "metadata": {},
     "output_type": "execute_result"
    },
    {
     "data": {
      "image/png": "[encoded data removed]",
      "text/plain": [
       "<Figure size 432x288 with 1 Axes>"
      ]
     },
     "metadata": {
      "needs_background": "light"
     },
     "output_type": "display_data"
    }
   ],
   "source": [
    "train_x = torch.tensor(list(np.log10(dfu[\"effective_T\"])))\n",
    "train_y = torch.tensor(list(np.log10(dfu[\"radius\"])))\n",
    "plt.scatter(train_x, train_y)\n",
    "torch.is_tensor(train_x)\n",
    "torch.is_tensor(train_y)"
   ]
  },
  {
   "cell_type": "markdown",
   "metadata": {},
   "source": [
    "Setting up the model\n",
    "\n",
    "The next cell demonstrates the most critical features of a user-defined Gaussian process model in GPyTorch. Building a GP model in GPyTorch is different in a number of ways.\n",
    "\n",
    "First in contrast to many existing GP packages, we do not provide full GP models for the user. Rather, we provide the tools necessary to quickly construct one. This is because we believe, analogous to building a neural network in standard PyTorch, it is important to have the flexibility to include whatever components are necessary. As can be seen in more complicated examples, this allows the user great flexibility in designing custom models.\n",
    "\n",
    "For most GP regression models, you will need to construct the following GPyTorch objects:\n",
    "\n",
    "A GP Model (gpytorch.models.ExactGP) - This handles most of the inference.\n",
    "A Likelihood (gpytorch.likelihoods.GaussianLikelihood) - This is the most common likelihood used for GP regression.\n",
    "A Mean - This defines the prior mean of the GP.(If you don’t know which mean to use, a gpytorch.means.ConstantMean() is a good place to start.)\n",
    "A Kernel - This defines the prior covariance of the GP.(If you don’t know which kernel to use, a gpytorch.kernels.ScaleKernel(gpytorch.kernels.RBFKernel()) is a good place to start).\n",
    "A MultivariateNormal Distribution (gpytorch.distributions.MultivariateNormal) - This is the object used to represent multivariate normal distributions.\n",
    "The GP Model\n",
    "\n",
    "The components of a user built (Exact, i.e. non-variational) GP model in GPyTorch are, broadly speaking:\n",
    "\n",
    "An __init__ method that takes the training data and a likelihood, and constructs whatever objects are necessary for the model’s forward method. This will most commonly include things like a mean module and a kernel module.\n",
    "A forward method that takes in some 𝑛×𝑑 data x and returns a MultivariateNormal with the prior mean and covariance evaluated at x. In other words, we return the vector 𝜇(𝑥) and the 𝑛×𝑛 matrix 𝐾𝑥𝑥 representing the prior mean and covariance matrix of the GP.\n",
    "This specification leaves a large amount of flexibility when defining a model. For example, to compose two kernels via addition, you can either add the kernel modules directly:\n",
    "\n",
    "self.covar_module = ScaleKernel(RBFKernel() + WhiteNoiseKernel())\n",
    "\n",
    "Or you can add the outputs of the kernel in the forward method:\n",
    "\n",
    "covar_x = self.rbf_kernel_module(x) + self.white_noise_module(x)"
   ]
  },
  {
   "cell_type": "code",
   "execution_count": 4,
   "metadata": {},
   "outputs": [],
   "source": [
    "# We will use the simplest form of GP model, exact inference\n",
    "class ExactGPModel(gpytorch.models.ExactGP):\n",
    "    def __init__(self, train_x, train_y, likelihood):\n",
    "        super(ExactGPModel, self).__init__(train_x, train_y, likelihood)\n",
    "        self.mean_module = gpytorch.means.ConstantMean()\n",
    "        self.covar_module = gpytorch.kernels.ScaleKernel(gpytorch.kernels.RBFKernel())\n",
    "\n",
    "    def forward(self, x):\n",
    "        mean_x = self.mean_module(x)\n",
    "        covar_x = self.covar_module(x)\n",
    "        return gpytorch.distributions.MultivariateNormal(mean_x, covar_x)\n",
    "\n",
    "# initialize likelihood and model\n",
    "likelihood = gpytorch.likelihoods.GaussianLikelihood()\n",
    "model = ExactGPModel(train_x, train_y, likelihood)"
   ]
  },
  {
   "cell_type": "markdown",
   "metadata": {},
   "source": [
    "Model modes\n",
    "\n",
    "Like most PyTorch modules, the ExactGP has a .train() and .eval() mode. - .train() mode is for optimizing model hyperameters. - .eval() mode is for computing predictions through the model posterior.\n",
    "\n",
    "Training the model\n",
    "\n",
    "In the next cell, we handle using Type-II MLE to train the hyperparameters of the Gaussian process.\n",
    "\n",
    "The most obvious difference here compared to many other GP implementations is that, as in standard PyTorch, the core training loop is written by the user. In GPyTorch, we make use of the standard PyTorch optimizers as from torch.optim, and all trainable parameters of the model should be of type torch.nn.Parameter. Because GP models directly extend torch.nn.Module, calls to methods like model.parameters() or model.named_parameters() function as you might expect coming from PyTorch.\n",
    "\n",
    "In most cases, the boilerplate code below will work well. It has the same basic components as the standard PyTorch training loop:\n",
    "\n",
    "Zero all parameter gradients\n",
    "Call the model and compute the loss\n",
    "Call backward on the loss to fill in gradients\n",
    "Take a step on the optimizer\n",
    "However, defining custom training loops allows for greater flexibility. For example, it is easy to save the parameters at each step of training, or use different learning rates for different parameters (which may be useful in deep kernel learning for example)."
   ]
  },
  {
   "cell_type": "code",
   "execution_count": 5,
   "metadata": {},
   "outputs": [
    {
     "name": "stdout",
     "output_type": "stream",
     "text": [
      "Iter 1/50 - Loss: 0.759   lengthscale: 0.693   noise: 0.693\n",
      "Iter 2/50 - Loss: 0.722   lengthscale: 0.644   noise: 0.644\n",
      "Iter 3/50 - Loss: 0.684   lengthscale: 0.598   noise: 0.598\n",
      "Iter 4/50 - Loss: 0.648   lengthscale: 0.556   noise: 0.554\n",
      "Iter 5/50 - Loss: 0.605   lengthscale: 0.516   noise: 0.513\n",
      "Iter 6/50 - Loss: 0.564   lengthscale: 0.479   noise: 0.474\n",
      "Iter 7/50 - Loss: 0.528   lengthscale: 0.444   noise: 0.437\n",
      "Iter 8/50 - Loss: 0.484   lengthscale: 0.412   noise: 0.403\n",
      "Iter 9/50 - Loss: 0.444   lengthscale: 0.381   noise: 0.370\n",
      "Iter 10/50 - Loss: 0.399   lengthscale: 0.352   noise: 0.340\n",
      "Iter 11/50 - Loss: 0.353   lengthscale: 0.325   noise: 0.312\n",
      "Iter 12/50 - Loss: 0.311   lengthscale: 0.299   noise: 0.286\n",
      "Iter 13/50 - Loss: 0.265   lengthscale: 0.274   noise: 0.261\n",
      "Iter 14/50 - Loss: 0.220   lengthscale: 0.251   noise: 0.239\n",
      "Iter 15/50 - Loss: 0.173   lengthscale: 0.230   noise: 0.218\n",
      "Iter 16/50 - Loss: 0.129   lengthscale: 0.212   noise: 0.199\n",
      "Iter 17/50 - Loss: 0.083   lengthscale: 0.198   noise: 0.181\n",
      "Iter 18/50 - Loss: 0.039   lengthscale: 0.185   noise: 0.164\n",
      "Iter 19/50 - Loss: -0.012   lengthscale: 0.175   noise: 0.149\n",
      "Iter 20/50 - Loss: -0.057   lengthscale: 0.168   noise: 0.136\n",
      "Iter 21/50 - Loss: -0.101   lengthscale: 0.162   noise: 0.123\n",
      "Iter 22/50 - Loss: -0.153   lengthscale: 0.154   noise: 0.112\n",
      "Iter 23/50 - Loss: -0.202   lengthscale: 0.146   noise: 0.101\n",
      "Iter 24/50 - Loss: -0.251   lengthscale: 0.137   noise: 0.092\n",
      "Iter 25/50 - Loss: -0.301   lengthscale: 0.129   noise: 0.083\n",
      "Iter 26/50 - Loss: -0.353   lengthscale: 0.120   noise: 0.075\n",
      "Iter 27/50 - Loss: -0.397   lengthscale: 0.111   noise: 0.068\n",
      "Iter 28/50 - Loss: -0.446   lengthscale: 0.102   noise: 0.061\n",
      "Iter 29/50 - Loss: -0.506   lengthscale: 0.093   noise: 0.055\n",
      "Iter 30/50 - Loss: -0.553   lengthscale: 0.085   noise: 0.050\n",
      "Iter 31/50 - Loss: -0.611   lengthscale: 0.078   noise: 0.045\n",
      "Iter 32/50 - Loss: -0.650   lengthscale: 0.072   noise: 0.041\n",
      "Iter 33/50 - Loss: -0.703   lengthscale: 0.067   noise: 0.037\n",
      "Iter 34/50 - Loss: -0.765   lengthscale: 0.064   noise: 0.033\n",
      "Iter 35/50 - Loss: -0.804   lengthscale: 0.061   noise: 0.030\n",
      "Iter 36/50 - Loss: -0.864   lengthscale: 0.059   noise: 0.027\n",
      "Iter 37/50 - Loss: -0.917   lengthscale: 0.057   noise: 0.024\n",
      "Iter 38/50 - Loss: -0.962   lengthscale: 0.055   noise: 0.022\n",
      "Iter 39/50 - Loss: -1.018   lengthscale: 0.054   noise: 0.020\n",
      "Iter 40/50 - Loss: -1.058   lengthscale: 0.053   noise: 0.018\n",
      "Iter 41/50 - Loss: -1.117   lengthscale: 0.052   noise: 0.016\n",
      "Iter 42/50 - Loss: -1.173   lengthscale: 0.051   noise: 0.014\n",
      "Iter 43/50 - Loss: -1.221   lengthscale: 0.049   noise: 0.013\n",
      "Iter 44/50 - Loss: -1.271   lengthscale: 0.048   noise: 0.012\n",
      "Iter 45/50 - Loss: -1.313   lengthscale: 0.046   noise: 0.010\n",
      "Iter 46/50 - Loss: -1.365   lengthscale: 0.043   noise: 0.009\n",
      "Iter 47/50 - Loss: -1.407   lengthscale: 0.041   noise: 0.009\n",
      "Iter 48/50 - Loss: -1.465   lengthscale: 0.039   noise: 0.008\n",
      "Iter 49/50 - Loss: -1.507   lengthscale: 0.037   noise: 0.007\n",
      "Iter 50/50 - Loss: -1.568   lengthscale: 0.035   noise: 0.006\n"
     ]
    }
   ],
   "source": [
    "def model_run(step = None)\n",
    "    # this is for running the notebook in our testing framework\n",
    "    smoke_test = ('CI' in os.environ)\n",
    "    training_iter = 2 if smoke_test else step\n",
    "\n",
    "\n",
    "    # Find optimal model hyperparameters\n",
    "    model.train()\n",
    "    likelihood.train()\n",
    "\n",
    "    # Use the adam optimizer\n",
    "    optimizer = torch.optim.Adam([\n",
    "        {'params': model.parameters()},  # Includes GaussianLikelihood parameters\n",
    "    ], lr=0.1)\n",
    "\n",
    "    # \"Loss\" for GPs - the marginal log likelihood\n",
    "    mll = gpytorch.mlls.ExactMarginalLogLikelihood(likelihood, model)\n",
    "\n",
    "    for i in range(training_iter): \n",
    "        # Zero gradients from previous iteration\n",
    "        optimizer.zero_grad()\n",
    "        # Output from model\n",
    "        output = model(train_x)\n",
    "        # Calc loss and backprop gradients\n",
    "        loss = -mll(output, train_y)\n",
    "        loss.backward()\n",
    "        print('Iter %d/%d - Loss: %.3f   lengthscale: %.3f   noise: %.3f' % (\n",
    "            i + 1, training_iter, loss.item(),\n",
    "            model.covar_module.base_kernel.lengthscale.item(),\n",
    "            model.likelihood.noise.item()\n",
    "        ))\n",
    "        optimizer.step()\n",
    "return model, likelihood"
   ]
  },
  {
   "cell_type": "markdown",
   "metadata": {},
   "source": [
    "Make predictions with the model\n",
    "\n",
    "In the next cell, we make predictions with the model. To do this, we simply put the model and likelihood in eval mode, and call both modules on the test data.\n",
    "\n",
    "Just as a user defined GP model returns a MultivariateNormal containing the prior mean and covariance from forward, a trained GP model in eval mode returns a MultivariateNormal containing the posterior mean and covariance. Thus, getting the predictive mean and variance, and then sampling functions from the GP at the given test points could be accomplished with calls like:\n",
    "\n",
    "f_preds = model(test_x)\n",
    "y_preds = likelihood(model(test_x))\n",
    "\n",
    "f_mean = f_preds.mean\n",
    "f_var = f_preds.variance\n",
    "f_covar = f_preds.covariance_matrix\n",
    "f_samples = f_preds.sample(sample_shape=torch.Size(1000,))"
   ]
  },
  {
   "cell_type": "markdown",
   "metadata": {},
   "source": [
    "The gpytorch.settings.fast_pred_var context is not needed, but here we are giving a preview of using one of our cool features, getting faster predictive distributions using LOVE."
   ]
  },
  {
   "cell_type": "code",
   "execution_count": 6,
   "metadata": {},
   "outputs": [
    {
     "name": "stderr",
     "output_type": "stream",
     "text": [
      "//anaconda3/lib/python3.7/site-packages/gpytorch/models/exact_gp.py:282: UserWarning: The input matches the stored training data. Did you forget to call model.train()?\n",
      "  \"The input matches the stored training data. Did you forget to call model.train()?\", UserWarning\n"
     ]
    }
   ],
   "source": [
    "# Get into evaluation (predictive posterior) mode\n",
    "model.eval()\n",
    "likelihood.eval()\n",
    "\n",
    "# Test points are regularly spaced along [0,1]\n",
    "# Make predictions by feeding model through likelihood\n",
    "with torch.no_grad(), gpytorch.settings.fast_pred_var():\n",
    "    test_x = train_x\n",
    "    observed_pred = likelihood(model(test_x))"
   ]
  },
  {
   "cell_type": "markdown",
   "metadata": {},
   "source": [
    "Plot the model fit\n",
    "\n",
    "In the next cell, we plot the mean and confidence region of the Gaussian process model. The confidence_region method is a helper method that returns 2 standard deviations above and below the mean."
   ]
  },
  {
   "cell_type": "code",
   "execution_count": 7,
   "metadata": {},
   "outputs": [
    {
     "data": {
      "image/png": "[encoded data removed]",
      "text/plain": [
       "<Figure size 720x648 with 1 Axes>"
      ]
     },
     "metadata": {
      "needs_background": "light"
     },
     "output_type": "display_data"
    }
   ],
   "source": [
    "with torch.no_grad():\n",
    "    # Initialize plot\n",
    "    f, ax = plt.subplots(1, 1, figsize=(10, 9))\n",
    "\n",
    "    # Get upper and lower confidence bounds\n",
    "    lower, upper = observed_pred.confidence_region()\n",
    "    # Plot training data as black stars\n",
    "    ax.plot(train_x.numpy(), train_y.numpy(), 'k*')\n",
    "    # Plot predictive means as blue line\n",
    "    ax.plot(test_x.numpy(), observed_pred.mean.numpy(), 'r')\n",
    "    # Shade between the lower and upper confidence bounds\n",
    "    #ax.fill_between(test_x.numpy(), lower.numpy(), upper.numpy(), alpha=0.5)\n",
    "    ax.set_xlim([3.9,3.6])\n",
    "    ax.set_ylim([-.5, 2])\n",
    "    ax.legend(['Observed Data', 'Mean', 'Confidence'])\n"
   ]
  },
  {
   "cell_type": "code",
   "execution_count": null,
   "metadata": {},
   "outputs": [],
   "source": []
  },
  {
   "cell_type": "code",
   "execution_count": null,
   "metadata": {},
   "outputs": [],
   "source": []
  },
  {
   "cell_type": "code",
   "execution_count": null,
   "metadata": {},
   "outputs": [],
   "source": []
  },
  {
   "cell_type": "code",
   "execution_count": null,
   "metadata": {},
   "outputs": [],
   "source": []
  },
  {
   "cell_type": "code",
   "execution_count": null,
   "metadata": {},
   "outputs": [],
   "source": []
  },
  {
   "cell_type": "code",
   "execution_count": null,
   "metadata": {},
   "outputs": [],
   "source": []
  }
 ],
 "metadata": {
  "kernelspec": {
   "display_name": "Python 3",
   "language": "python",
   "name": "python3"
  },
  "language_info": {
   "codemirror_mode": {
    "name": "ipython",
    "version": 3
   },
   "file_extension": ".py",
   "mimetype": "text/x-python",
   "name": "python",
   "nbconvert_exporter": "python",
   "pygments_lexer": "ipython3",
   "version": "3.7.3"
  }
 },
 "nbformat": 4,
 "nbformat_minor": 2
}
